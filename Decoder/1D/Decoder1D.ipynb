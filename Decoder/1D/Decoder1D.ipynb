{
 "cells": [
  {
   "cell_type": "code",
   "execution_count": 1,
   "metadata": {},
   "outputs": [],
   "source": [
    "import importlib\n",
    "import numpy as np\n",
    "import torch\n",
    "import torch.nn as nn\n",
    "import torch.optim as optim\n",
    "from sklearn.model_selection import train_test_split\n",
    "from tqdm import tqdm\n",
    "import itertools\n",
    "import joblib\n",
    "from matplotlib import pyplot as plot\n",
    "import os\n",
    "import gc\n",
    "from load_dataset import get_dataloader\n",
    "import utils"
   ]
  },
  {
   "cell_type": "code",
   "execution_count": 2,
   "metadata": {},
   "outputs": [],
   "source": [
    "class ConvNet1D(nn.Module):\n",
    "    def __init__(self, input_size, output_size, in_channels,\n",
    "                 conv_k = 3, conv_s=1, conv_p=1, pool_k=2, pool_s=2,\n",
    "                 use_batch_norm=False, dropout_rate = -1, activation_function = nn.ReLU()):\n",
    "        super(ConvNet1D, self).__init__()\n",
    "        layers = nn.ModuleList()\n",
    "        self.in_channels = in_channels\n",
    "        self.final_output_dim = output_size\n",
    "        self.conv_k = conv_k\n",
    "        self.conv_s = conv_s\n",
    "        self.conv_p = conv_p\n",
    "        self.pool_k = pool_k\n",
    "        self.pool_s = pool_s\n",
    "        out_dim = input_size\n",
    "        for i in range(len(self.in_channels)-1):\n",
    "            layers.append(nn.Conv1d(self.in_channels[i], self.in_channels[i+1],  kernel_size=self.conv_k, stride=self.conv_s, padding=self.conv_p))\n",
    "            layers.append(activation_function)\n",
    "            layers.append(nn.MaxPool1d(kernel_size=self.pool_k, stride=self.pool_s))\n",
    "            if use_batch_norm:\n",
    "                layers.append(nn.BatchNorm1d(self.in_channels[i+1]))\n",
    "            if dropout_rate != -1:\n",
    "                layers.append(nn.Dropout(p=dropout_rate))\n",
    "            out_dim = self.compute_dim(out_dim, self.conv_k, self.conv_s, self.conv_p, self.pool_k, self.pool_s)\n",
    "            \n",
    "        self.conv_net = nn.Sequential(*layers)\n",
    "        self.fc = nn.Linear(int(out_dim* self.in_channels[-1]), self.final_output_dim[0]*self.final_output_dim[1])\n",
    "        \n",
    "    def forward(self, x):\n",
    "        out = self.conv_net(x)\n",
    "        out = out.view(out.size(0), -1)\n",
    "        out = self.fc(out)\n",
    "        out= out.view(out.shape[0], *self.final_output_dim)\n",
    "        return out\n",
    "    \n",
    "    def compute_dim(self, dim, conv_k, conv_s, conv_p, pool_k, pool_s):\n",
    "        dim = np.floor(((dim - conv_k + 2 * conv_p)/conv_s)+1)\n",
    "        return np.floor(((dim - pool_k)/pool_s)+1)\n"
   ]
  },
  {
   "cell_type": "code",
   "execution_count": 3,
   "metadata": {},
   "outputs": [
    {
     "data": {
      "text/plain": [
       "device(type='cuda', index=0)"
      ]
     },
     "execution_count": 3,
     "metadata": {},
     "output_type": "execute_result"
    }
   ],
   "source": [
    "gpu = torch.device('cpu') \n",
    "gpu = torch.device(\"cuda:0\" if torch.cuda.is_available() else \"cpu\")\n",
    "gpu"
   ]
  },
  {
   "cell_type": "code",
   "execution_count": 4,
   "metadata": {},
   "outputs": [],
   "source": [
    "def train(conv_net, train_loader, test_loader, optimizer:optim,\n",
    "          epochs:int = 10, loss_fn = None):\n",
    "    train_losses = []\n",
    "    test_losses = []\n",
    "\n",
    "    for i in range(epochs):\n",
    "        print('epoch {}'.format(i))\n",
    "        epoch_loss = []\n",
    "        test_loss = []\n",
    "\n",
    "        # Training\n",
    "        for _, (batch,labels) in tqdm(enumerate(train_loader)):\n",
    "            conv_net.train()\n",
    "            batch = batch.to(gpu)\n",
    "            labels = labels.to(gpu)\n",
    "            optimizer.zero_grad()\n",
    "            output = conv_net(batch)\n",
    "            # output = output.cpu()\n",
    "\n",
    "            loss_train = loss_fn(output, labels)\n",
    "            loss_train.backward()\n",
    "            optimizer.step()\n",
    "            epoch_loss.append(loss_train.item())\n",
    "            return train_losses, test_losses\n",
    "\n",
    "        # Test Set\n",
    "        with torch.no_grad():    \n",
    "            for _, (batch,labels) in enumerate(test_loader):\n",
    "                conv_net.eval()\n",
    "                batch = batch.to(gpu)\n",
    "                labels = labels.to(gpu)\n",
    "                output = conv_net(batch)\n",
    "                # output = output.cpu()\n",
    "                loss_test = loss_fn(output, labels)\n",
    "                test_loss.append(loss_test.item())\n",
    "\n",
    "        train_losses.append(np.average(epoch_loss))\n",
    "        test_losses.append(np.average(test_loss))\n",
    "    \n"
   ]
  },
  {
   "cell_type": "code",
   "execution_count": 5,
   "metadata": {},
   "outputs": [],
   "source": [
    "AA_random_matrices = joblib.load('data/AA_random_matrices.joblib')"
   ]
  },
  {
   "cell_type": "code",
   "execution_count": 6,
   "metadata": {},
   "outputs": [
    {
     "name": "stdout",
     "output_type": "stream",
     "text": [
      " Loading embeddings\n",
      " Handling embeddings\n",
      " Sequences done\n",
      " Found longest sequence: 1965\n",
      " Created the label matrices\n",
      " Embeddings done\n"
     ]
    },
    {
     "name": "stderr",
     "output_type": "stream",
     "text": [
      "e:\\Protein-Protein\\load_dataset.py:76: UserWarning: Creating a tensor from a list of numpy.ndarrays is extremely slow. Please consider converting the list to a single numpy.ndarray with numpy.array() before converting to a tensor. (Triggered internally at C:\\cb\\pytorch_1000000000000\\work\\torch\\csrc\\utils\\tensor_new.cpp:248.)\n",
      "  embbedings = torch.Tensor([[val['emb']] for val in embeddings_dict.values()])\n"
     ]
    }
   ],
   "source": [
    "train_loader, test_loader = get_dataloader('data/Prots_embeddings_1d.joblib', AA_random_matrices, 128, train_size=0.8)"
   ]
  },
  {
   "cell_type": "code",
   "execution_count": null,
   "metadata": {},
   "outputs": [],
   "source": [
    "gc.collect()\n",
    "net = ConvNet1D(1024, (1965,22), [1,8,16]).to(gpu)\n",
    "optimizer = optim.ASGD(net.parameters(), lr=0.0001)\n",
    "loss = nn.L1Loss().to(gpu)\n",
    "results = train(net, train_loader, test_loader, optimizer, epochs=50, loss_fn=loss)"
   ]
  },
  {
   "cell_type": "code",
   "execution_count": null,
   "metadata": {},
   "outputs": [],
   "source": [
    "results = train(net, train_loader, test_loader, optimizer, epochs=50, loss_fn=loss)"
   ]
  },
  {
   "cell_type": "code",
   "execution_count": 99,
   "metadata": {},
   "outputs": [
    {
     "data": {
      "text/plain": [
       "[<matplotlib.lines.Line2D at 0x24fda8eea00>]"
      ]
     },
     "execution_count": 99,
     "metadata": {},
     "output_type": "execute_result"
    },
    {
     "data": {
      "image/png": "[encoded data removed]",
      "text/plain": [
       "<Figure size 640x480 with 1 Axes>"
      ]
     },
     "metadata": {},
     "output_type": "display_data"
    }
   ],
   "source": [
    "plot.plot(range(1,len(results[0])+1), results[0])\n",
    "plot.plot(range(1,len(results[1])+1), results[1], label='test')"
   ]
  },
  {
   "cell_type": "code",
   "execution_count": 100,
   "metadata": {},
   "outputs": [
    {
     "data": {
      "text/plain": [
       "['models/convNet1D.joblib']"
      ]
     },
     "execution_count": 100,
     "metadata": {},
     "output_type": "execute_result"
    }
   ],
   "source": [
    "joblib.dump(net, 'models/convNet1D.joblib')"
   ]
  }
 ],
 "metadata": {
  "kernelspec": {
   "display_name": "protein-protein",
   "language": "python",
   "name": "python3"
  },
  "language_info": {
   "codemirror_mode": {
    "name": "ipython",
    "version": 3
   },
   "file_extension": ".py",
   "mimetype": "text/x-python",
   "name": "python",
   "nbconvert_exporter": "python",
   "pygments_lexer": "ipython3",
   "version": "3.9.0"
  },
  "orig_nbformat": 4
 },
 "nbformat": 4,
 "nbformat_minor": 2
}
