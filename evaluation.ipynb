{
 "cells": [
  {
   "cell_type": "code",
   "execution_count": 1,
   "metadata": {},
   "outputs": [
    {
     "name": "stderr",
     "output_type": "stream",
     "text": [
      "c:\\Users\\Jean-Luc\\.conda\\envs\\protein-protein\\lib\\site-packages\\tqdm\\auto.py:21: TqdmWarning: IProgress not found. Please update jupyter and ipywidgets. See https://ipywidgets.readthedocs.io/en/stable/user_install.html\n",
      "  from .autonotebook import tqdm as notebook_tqdm\n"
     ]
    }
   ],
   "source": [
    "import numpy as np\n",
    "import torch\n",
    "import torch.nn as nn\n",
    "import torch.optim as optim\n",
    "import joblib\n",
    "from matplotlib import pyplot as plt\n",
    "import os\n",
    "import gc\n",
    "from load_dataset import get_orth_dataloader\n",
    "import utils\n",
    "import lightning.pytorch as pl\n",
    "import shutil\n",
    "from IPython.display import clear_output\n"
   ]
  },
  {
   "cell_type": "code",
   "execution_count": 2,
   "metadata": {},
   "outputs": [],
   "source": [
    "train, test = get_orth_dataloader('data/AA_orth.joblib',shuffle=False, train_size=0.8, batch_size=64)"
   ]
  },
  {
   "cell_type": "code",
   "execution_count": 12,
   "metadata": {},
   "outputs": [],
   "source": [
    "random_matrices_orth = joblib.load('data/AA_random_matrices_orth.joblib')"
   ]
  },
  {
   "cell_type": "code",
   "execution_count": 3,
   "metadata": {},
   "outputs": [],
   "source": [
    "class Encoder(nn.Module):\n",
    "    def __init__(self, out_dim,in_channels, latent_dim: int, conv_k = 3, conv_s=1, conv_p=1, pool_k=0, pool_s=1,\n",
    "                 use_batch_norm=False, dropout_rate = 0,\n",
    "                 activation_function = nn.ReLU):\n",
    "\n",
    "        super().__init__()\n",
    "        self.conv_k = conv_k\n",
    "        self.conv_s = conv_s\n",
    "        self.conv_p = conv_p\n",
    "        self.pool_k = pool_k\n",
    "        self.pool_s = pool_s\n",
    "        self.in_channels = in_channels\n",
    "        self.use_batch_norm = use_batch_norm\n",
    "        self.layers = nn.ModuleList()\n",
    "\n",
    "\n",
    "        for i in range(len(self.in_channels)-1):\n",
    "            self.layers.append(nn.Conv1d(self.in_channels[i], self.in_channels[i+1],  kernel_size=self.conv_k, stride=self.conv_s, padding=self.conv_p))\n",
    "            self.layers.append(activation_function())\n",
    "            if use_batch_norm:\n",
    "                self.layers.append(nn.BatchNorm1d(self.in_channels[i+1]))\n",
    "            self.layers.append(nn.Dropout(p=dropout_rate))\n",
    "\n",
    "            \n",
    "        self.conv_net = nn.Sequential(*self.layers)\n",
    "        self.fc = nn.Linear(int(out_dim* self.in_channels[-1]), latent_dim)\n",
    "\n",
    "\n",
    "    def forward(self, x):\n",
    "        out = self.conv_net(x)\n",
    "        out = out.view(out.size(0), -1)\n",
    "        out = self.fc(out)\n",
    "        return out\n",
    "    "
   ]
  },
  {
   "cell_type": "code",
   "execution_count": 4,
   "metadata": {},
   "outputs": [],
   "source": [
    "class Decoder(nn.Module):\n",
    "    def __init__(self, out_dim, in_channels, latent_dim: int, conv_k = 3, conv_s=1, conv_p=1, pool_k=2, pool_s=2,\n",
    "                 use_batch_norm=False, dropout_rate = 0,\n",
    "                 activation_function = nn.ReLU):\n",
    "        super().__init__()\n",
    "        self.conv_k = conv_k\n",
    "        self.conv_s = conv_s\n",
    "        self.conv_p = conv_p\n",
    "        self.pool_k = pool_k\n",
    "        self.pool_s = pool_s\n",
    "\n",
    "        self.in_channels = in_channels\n",
    "        self.layers = nn.ModuleList()\n",
    "        self.latent_dim = latent_dim\n",
    "\n",
    "\n",
    "        for i in range(len(self.in_channels)-1):\n",
    "            self.layers.append(nn.ConvTranspose1d (self.in_channels[i], self.in_channels[i+1],  kernel_size=self.conv_k, stride=self.conv_s, padding=self.conv_p))\n",
    "            self.layers.append(activation_function())\n",
    "            if use_batch_norm:\n",
    "                self.layers.append(nn.BatchNorm1d(self.in_channels[i+1]))\n",
    "            self.layers.append(nn.Dropout(p=dropout_rate))\n",
    "            \n",
    "        self.layers.append(nn.Tanh())\n",
    "        self.conv_net = nn.Sequential(*self.layers)\n",
    "        self.fc = nn.Linear(latent_dim, int(out_dim*in_channels[0]))\n",
    "    \n",
    "    def forward(self, x):\n",
    "        x = self.fc(x)\n",
    "        x = x.view(x.shape[0], self.in_channels[0], -1)\n",
    "        x = self.conv_net(x)\n",
    "        return x"
   ]
  },
  {
   "cell_type": "code",
   "execution_count": 5,
   "metadata": {},
   "outputs": [],
   "source": [
    "class Autoencoder(pl.LightningModule):\n",
    "    def __init__(\n",
    "        self,\n",
    "        data_shape: tuple,\n",
    "        in_channels,\n",
    "        latent_dim: int,\n",
    "        encoder_class: object = Encoder,\n",
    "        decoder_class: object = Decoder,\n",
    "        conv_k = 3, conv_s=1, conv_p=1, pool_k=0, pool_s=1,\n",
    "        use_batch_norm=False, dropout_rate = 0,\n",
    "        activation_function = nn.ReLU, optimizer = optim.Adagrad, loss_func = nn.MSELoss(), lr= 0.0001\n",
    "    ):\n",
    "        super().__init__()\n",
    "        self.in_channels = in_channels\n",
    "        self.lr = lr\n",
    "        self.data_shape = data_shape\n",
    "        self.conv_k = conv_k\n",
    "        self.conv_s = conv_s\n",
    "        self.conv_p = conv_p\n",
    "        self.pool_k = pool_k\n",
    "        self.pool_s = pool_s\n",
    "        self.use_batch_norm = use_batch_norm\n",
    "        self.dropout_rate = dropout_rate\n",
    "        self.optimizer = optimizer\n",
    "        self.loss_func = loss_func\n",
    "        self.activation_function = activation_function\n",
    "        out_dim = data_shape[1]\n",
    "\n",
    "\n",
    "        for _ in range(len(in_channels)-1):\n",
    "            out_dim = self.compute_dim(out_dim, self.conv_k, self.conv_s, self.conv_p, self.pool_k, self.pool_s)\n",
    "        \n",
    "        in_channels_reversed = in_channels[::-1]\n",
    "        self.encoder = encoder_class(out_dim, in_channels, latent_dim, conv_k, conv_s, conv_p, pool_k, pool_s, use_batch_norm, dropout_rate, activation_function)\n",
    "        self.decoder = decoder_class(out_dim, in_channels_reversed, latent_dim, conv_k, conv_s, conv_p, pool_k, pool_s, use_batch_norm, dropout_rate, activation_function)\n",
    "        self.out_dim = out_dim\n",
    "        \n",
    "        \n",
    "        self.training_epoch_mean = []\n",
    "        self.current_training_epoch_loss = []\n",
    "        self.training_step_loss = []\n",
    "        self.validation_epoch_mean = []\n",
    "        self.current_validation_epoch_loss = []\n",
    "        self.validation_step_loss = []\n",
    "        \n",
    "    def forward(self, x):\n",
    "        z = self.encoder(x)\n",
    "        x_hat = self.decoder(z)\n",
    "        return x_hat\n",
    "\n",
    "    def _get_reconstruction_loss(self, batch):\n",
    "        x,_ = batch  # We do not need the labels\n",
    "        preds = self.forward(x)\n",
    "        loss = self.loss_func(preds, x)\n",
    "        return loss\n",
    "\n",
    "    def configure_optimizers(self):\n",
    "        return self.optimizer(self.parameters(), lr=self.lr)\n",
    "\n",
    "    def training_step(self, batch, batch_idx):\n",
    "        loss = self._get_reconstruction_loss(batch)\n",
    "        self.current_training_epoch_loss.append(loss.detach().cpu().numpy())\n",
    "        return loss\n",
    "\n",
    "    def validation_step(self, batch, batch_idx):\n",
    "        loss = self._get_reconstruction_loss(batch)\n",
    "        self.current_validation_epoch_loss.append(loss.detach().cpu().numpy())\n",
    "\n",
    "    def on_train_epoch_end(self):\n",
    "        epoch_loss = np.mean(self.current_training_epoch_loss)\n",
    "        self.training_step_loss += self.current_training_epoch_loss\n",
    "        self.training_epoch_mean.append(epoch_loss)\n",
    "        self.log(\"train_epoch_loss\", epoch_loss, prog_bar=True)\n",
    "        self.current_training_epoch_loss.clear()\n",
    "\n",
    "    def on_validation_epoch_end(self):\n",
    "        epoch_loss = np.mean(self.current_validation_epoch_loss)\n",
    "        self.validation_step_loss += self.current_validation_epoch_loss\n",
    "        self.validation_epoch_mean.append(epoch_loss)\n",
    "        self.log(\"validation_epoch_loss\", epoch_loss, prog_bar=True)\n",
    "        self.current_validation_epoch_loss.clear()\n",
    "\n",
    "    def compute_dim(self, dim, conv_k, conv_s, conv_p, pool_k, pool_s):\n",
    "        dim = np.floor(((dim - conv_k + 2 * conv_p)/conv_s)+1)\n",
    "        return dim"
   ]
  },
  {
   "cell_type": "code",
   "execution_count": 6,
   "metadata": {},
   "outputs": [],
   "source": [
    "class Item():\n",
    "    def __init__(self, name, model, correct_prediction, num_elem_tested):\n",
    "        components = name.split('_')\n",
    "        self.name = name\n",
    "        self.model = model\n",
    "        self.channels, self.latent_dim, self.activation_function, self.optimizer, self.loss_function, self.dropout_rate, self.batch_norm = components\n",
    "        self.correct_prediction = correct_prediction\n",
    "\n",
    "        #To change \n",
    "        self.conv_k = 3\n",
    "        self.conv_s = 1\n",
    "        self.conv_p = 1\n",
    "        self.pool_k = 0\n",
    "        self.pool_s = 1\n",
    "        self.num_elem_tested = num_elem_tested"
   ]
  },
  {
   "cell_type": "code",
   "execution_count": 9,
   "metadata": {},
   "outputs": [],
   "source": [
    "models = {}\n",
    "for model in os.listdir(\"models/Autoencoder1D\"):\n",
    "    models[model] = joblib.load(\"models/Autoencoder1D/\"+model)"
   ]
  },
  {
   "cell_type": "code",
   "execution_count": 14,
   "metadata": {},
   "outputs": [],
   "source": [
    "for aa, vec in random_matrices_orth.items():\n",
    "    random_matrices_orth[aa] = vec.numpy()"
   ]
  },
  {
   "cell_type": "code",
   "execution_count": 11,
   "metadata": {},
   "outputs": [],
   "source": [
    "items = []\n",
    "for name, model in models.items():\n",
    "    model.cpu()\n",
    "    o= None\n",
    "    seqs= []\n",
    "    for t in test:\n",
    "        o = model(t[0]).detach().cpu().numpy()\n",
    "        seqs = t[1] \n",
    "        break\n",
    "    total = utils.batch_correct_reconstructed_amino_acid(seqs, o, random_matrices_orth, 1965)[0]\n",
    "    items.append(Item(name, model, total, len(seqs)*1965))"
   ]
  },
  {
   "cell_type": "code",
   "execution_count": null,
   "metadata": {},
   "outputs": [],
   "source": [
    "items = joblib.load('evaluation.joblib')"
   ]
  },
  {
   "cell_type": "code",
   "execution_count": 13,
   "metadata": {},
   "outputs": [],
   "source": [
    "best = max(items, key=lambda x: x.correct_prediction)"
   ]
  },
  {
   "cell_type": "code",
   "execution_count": 14,
   "metadata": {},
   "outputs": [
    {
     "data": {
      "text/plain": [
       "123090"
      ]
     },
     "execution_count": 14,
     "metadata": {},
     "output_type": "execute_result"
    }
   ],
   "source": [
    "best.correct_prediction"
   ]
  },
  {
   "cell_type": "code",
   "execution_count": 15,
   "metadata": {},
   "outputs": [
    {
     "data": {
      "image/png": "[encoded data removed]",
      "text/plain": [
       "<Figure size 640x480 with 2 Axes>"
      ]
     },
     "metadata": {},
     "output_type": "display_data"
    }
   ],
   "source": [
    "plt.subplot(1,2,1)\n",
    "plt.plot(range(len(best.model.training_epoch_mean)), best.model.training_epoch_mean, label='train')\n",
    "plt.plot(range(len(best.model.validation_epoch_mean)), best.model.validation_epoch_mean, label='val')\n",
    "plt.legend()\n",
    "\n",
    "plt.subplot(1,2,2)\n",
    "plt.plot(range(len(best.model.training_step_loss)), best.model.training_step_loss, label='train')\n",
    "plt.plot(range(len(best.model.validation_step_loss)), best.model.validation_step_loss, label='val')\n",
    "\n",
    "plt.legend()\n",
    "plt.title(name)\n",
    "plt.show()"
   ]
  },
  {
   "cell_type": "code",
   "execution_count": 7,
   "metadata": {},
   "outputs": [],
   "source": [
    "best = joblib.load('models/best_model.joblib')"
   ]
  },
  {
   "cell_type": "code",
   "execution_count": 26,
   "metadata": {},
   "outputs": [],
   "source": [
    "def get_correct_preds(model, dataloader, random_matrices_orthogonal):\n",
    "    preds = 0\n",
    "    for batch in dataloader:\n",
    "        mats, seqs = batch\n",
    "        outputs = model(mats).detach().cpu().numpy()\n",
    "        preds += utils.batch_correct_reconstructed_amino_acid(seqs, outputs, random_matrices_orthogonal, 1965)[0]\n",
    "    return preds"
   ]
  },
  {
   "cell_type": "code",
   "execution_count": 27,
   "metadata": {},
   "outputs": [],
   "source": [
    "correct_preds_train = get_correct_preds(best, train, random_matrices_orth)\n",
    "correct_preds_test = get_correct_preds(best, test, random_matrices_orth)"
   ]
  },
  {
   "cell_type": "code",
   "execution_count": 28,
   "metadata": {},
   "outputs": [],
   "source": [
    "num_seq_train = sum([len(x[0]) for x in train])\n",
    "num_seq_test = sum([len(x[0]) for x in test])"
   ]
  },
  {
   "cell_type": "code",
   "execution_count": 29,
   "metadata": {},
   "outputs": [
    {
     "name": "stdout",
     "output_type": "stream",
     "text": [
      "66689099 0.9754116449254726\n",
      "16680616 0.9758435572279227\n"
     ]
    }
   ],
   "source": [
    "# correct number of prediction and accuracy\n",
    "# 1965 = longuest sequence, num_seq_* = number of sequence\n",
    "print(correct_preds_train, correct_preds_train/(num_seq_train*1965))\n",
    "print(correct_preds_test, correct_preds_test/(num_seq_test*1965))"
   ]
  },
  {
   "cell_type": "code",
   "execution_count": 22,
   "metadata": {},
   "outputs": [
    {
     "data": {
      "text/plain": [
       "['best_model.joblib']"
      ]
     },
     "execution_count": 22,
     "metadata": {},
     "output_type": "execute_result"
    }
   ],
   "source": [
    "joblib.dump(best.model, 'best_model.joblib')"
   ]
  },
  {
   "cell_type": "code",
   "execution_count": 31,
   "metadata": {},
   "outputs": [
    {
     "data": {
      "text/plain": [
       "Autoencoder(\n",
       "  (loss_func): MSELoss()\n",
       "  (encoder): Encoder(\n",
       "    (layers): ModuleList(\n",
       "      (0): Conv1d(1965, 512, kernel_size=(3,), stride=(1,), padding=(1,))\n",
       "      (1): Tanh()\n",
       "      (2): Dropout(p=0, inplace=False)\n",
       "      (3): Conv1d(512, 256, kernel_size=(3,), stride=(1,), padding=(1,))\n",
       "      (4): Tanh()\n",
       "      (5): Dropout(p=0, inplace=False)\n",
       "      (6): Conv1d(256, 128, kernel_size=(3,), stride=(1,), padding=(1,))\n",
       "      (7): Tanh()\n",
       "      (8): Dropout(p=0, inplace=False)\n",
       "    )\n",
       "    (conv_net): Sequential(\n",
       "      (0): Conv1d(1965, 512, kernel_size=(3,), stride=(1,), padding=(1,))\n",
       "      (1): Tanh()\n",
       "      (2): Dropout(p=0, inplace=False)\n",
       "      (3): Conv1d(512, 256, kernel_size=(3,), stride=(1,), padding=(1,))\n",
       "      (4): Tanh()\n",
       "      (5): Dropout(p=0, inplace=False)\n",
       "      (6): Conv1d(256, 128, kernel_size=(3,), stride=(1,), padding=(1,))\n",
       "      (7): Tanh()\n",
       "      (8): Dropout(p=0, inplace=False)\n",
       "    )\n",
       "    (fc): Linear(in_features=2816, out_features=1024, bias=True)\n",
       "  )\n",
       "  (decoder): Decoder(\n",
       "    (layers): ModuleList(\n",
       "      (0): ConvTranspose1d(128, 256, kernel_size=(3,), stride=(1,), padding=(1,))\n",
       "      (1): Tanh()\n",
       "      (2): Dropout(p=0, inplace=False)\n",
       "      (3): ConvTranspose1d(256, 512, kernel_size=(3,), stride=(1,), padding=(1,))\n",
       "      (4): Tanh()\n",
       "      (5): Dropout(p=0, inplace=False)\n",
       "      (6): ConvTranspose1d(512, 1965, kernel_size=(3,), stride=(1,), padding=(1,))\n",
       "      (7): Tanh()\n",
       "      (8): Dropout(p=0, inplace=False)\n",
       "      (9): Tanh()\n",
       "    )\n",
       "    (conv_net): Sequential(\n",
       "      (0): ConvTranspose1d(128, 256, kernel_size=(3,), stride=(1,), padding=(1,))\n",
       "      (1): Tanh()\n",
       "      (2): Dropout(p=0, inplace=False)\n",
       "      (3): ConvTranspose1d(256, 512, kernel_size=(3,), stride=(1,), padding=(1,))\n",
       "      (4): Tanh()\n",
       "      (5): Dropout(p=0, inplace=False)\n",
       "      (6): ConvTranspose1d(512, 1965, kernel_size=(3,), stride=(1,), padding=(1,))\n",
       "      (7): Tanh()\n",
       "      (8): Dropout(p=0, inplace=False)\n",
       "      (9): Tanh()\n",
       "    )\n",
       "    (fc): Linear(in_features=1024, out_features=2816, bias=True)\n",
       "  )\n",
       ")"
      ]
     },
     "execution_count": 31,
     "metadata": {},
     "output_type": "execute_result"
    }
   ],
   "source": [
    "best"
   ]
  }
 ],
 "metadata": {
  "kernelspec": {
   "display_name": "protein-protein",
   "language": "python",
   "name": "python3"
  },
  "language_info": {
   "codemirror_mode": {
    "name": "ipython",
    "version": 3
   },
   "file_extension": ".py",
   "mimetype": "text/x-python",
   "name": "python",
   "nbconvert_exporter": "python",
   "pygments_lexer": "ipython3",
   "version": "3.9.0"
  },
  "orig_nbformat": 4
 },
 "nbformat": 4,
 "nbformat_minor": 2
}
