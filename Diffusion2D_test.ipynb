{
 "cells": [
  {
   "cell_type": "code",
   "execution_count": 1,
   "metadata": {},
   "outputs": [
    {
     "name": "stderr",
     "output_type": "stream",
     "text": [
      "c:\\Users\\Jean-Luc\\.conda\\envs\\protein-protein\\lib\\site-packages\\tqdm\\auto.py:21: TqdmWarning: IProgress not found. Please update jupyter and ipywidgets. See https://ipywidgets.readthedocs.io/en/stable/user_install.html\n",
      "  from .autonotebook import tqdm as notebook_tqdm\n"
     ]
    }
   ],
   "source": [
    "import torch\n",
    "from torch.utils.data import Dataset, DataLoader\n",
    "from torch import nn, einsum, Tensor\n",
    "from denoising_diffusion_pytorch import Unet, GaussianDiffusion, Trainer\n",
    "import joblib\n",
    "import numpy as np\n",
    "from Architectures.decoder_conv import Decoder\n",
    "from Architectures.encoder_conv import Encoder\n",
    "from Architectures.autoencoder_conv_pl import Autoencoder"
   ]
  },
  {
   "cell_type": "code",
   "execution_count": null,
   "metadata": {},
   "outputs": [],
   "source": [
    "data = joblib.load('data/latent_dim_500.joblib')\n",
    "n, c, width = data['inputs'].shape\n",
    "new = data['inputs'].view(n, c, int(np.sqrt(width)), int(np.sqrt(width)))\n",
    "print(new.shape)"
   ]
  },
  {
   "cell_type": "code",
   "execution_count": 3,
   "metadata": {},
   "outputs": [],
   "source": [
    "model = Unet(\n",
    "    dim = 4,\n",
    "    dim_mults = (1, 2),\n",
    "    channels=1,\n",
    "    resnet_block_groups=2\n",
    ").cuda()\n"
   ]
  },
  {
   "cell_type": "code",
   "execution_count": 4,
   "metadata": {},
   "outputs": [],
   "source": [
    "diffusion = GaussianDiffusion(\n",
    "    model,\n",
    "    image_size = 32,\n",
    "    timesteps = 200,           # number of steps\n",
    ").cuda()"
   ]
  },
  {
   "cell_type": "code",
   "execution_count": 5,
   "metadata": {},
   "outputs": [],
   "source": [
    "data = joblib.load('data/latent_dim.joblib')"
   ]
  },
  {
   "cell_type": "code",
   "execution_count": 6,
   "metadata": {},
   "outputs": [],
   "source": [
    "n, c, width = data['inputs'].shape\n",
    "new = data['inputs'].view(n, c, int(np.sqrt(width)), int(np.sqrt(width)))"
   ]
  },
  {
   "cell_type": "code",
   "execution_count": 7,
   "metadata": {},
   "outputs": [],
   "source": [
    "trainer = Trainer(\n",
    "    diffusion,\n",
    "    new.detach(),\n",
    "    train_batch_size =4,\n",
    "    train_lr = 8e-5,\n",
    "    train_num_steps = 100000,         # total training steps\n",
    "    gradient_accumulate_every = 2,    # gradient accumulation steps\n",
    "    ema_decay = 0.995,                # exponential moving average decay\n",
    "    amp = True,                       # turn on mixed precision\n",
    "    calculate_fid = True ,\n",
    "    results_folder='Diffusion/83737807a5e63cb4c3ef9f7fcf4a987b2776fb761252d19497c7c2ec5c41da32/',             # whether to calculate fid during training\n",
    ")\n",
    "# trainer.train()"
   ]
  },
  {
   "cell_type": "code",
   "execution_count": 8,
   "metadata": {},
   "outputs": [
    {
     "name": "stdout",
     "output_type": "stream",
     "text": [
      "Diffusion/83737807a5e63cb4c3ef9f7fcf4a987b2776fb761252d19497c7c2ec5c41da32\\model-10.pt\n",
      "10 <class 'str'>\n"
     ]
    }
   ],
   "source": [
    "import glob\n",
    "import os\n",
    "import re\n",
    "\n",
    "list_of_files = glob.glob('Diffusion/83737807a5e63cb4c3ef9f7fcf4a987b2776fb761252d19497c7c2ec5c41da32/*') # * means all if need specific format then *.csv\n",
    "latest_file = max(list_of_files, key=os.path.getctime)\n",
    "print(latest_file)\n",
    "pattern = r\"-(.*?)\\.\"\n",
    "match = re.search(pattern, latest_file)\n",
    "if match:\n",
    "    result = match.group(1)\n",
    "    print(result, type(result))"
   ]
  },
  {
   "cell_type": "code",
   "execution_count": 9,
   "metadata": {},
   "outputs": [
    {
     "name": "stdout",
     "output_type": "stream",
     "text": [
      "loading from version 1.5.8\n"
     ]
    }
   ],
   "source": [
    "trainer.load(result)"
   ]
  },
  {
   "cell_type": "code",
   "execution_count": 10,
   "metadata": {},
   "outputs": [
    {
     "name": "stderr",
     "output_type": "stream",
     "text": [
      "sampling loop time step: 100%|██████████| 200/200 [00:06<00:00, 32.12it/s]\n"
     ]
    },
    {
     "data": {
      "text/plain": [
       "torch.Size([4, 1, 32, 32])"
      ]
     },
     "execution_count": 10,
     "metadata": {},
     "output_type": "execute_result"
    }
   ],
   "source": [
    "sampled_seq = diffusion.sample(batch_size = 4)\n",
    "sampled_seq.shape # (4, 32, 128)"
   ]
  },
  {
   "cell_type": "code",
   "execution_count": 11,
   "metadata": {},
   "outputs": [],
   "source": [
    "sampled_seq = sampled_seq.view(sampled_seq.shape[0], sampled_seq.shape[1], 1024)"
   ]
  },
  {
   "cell_type": "code",
   "execution_count": 12,
   "metadata": {},
   "outputs": [],
   "source": [
    "autoencoder = joblib.load('[1965, 512, 256]_1024_Tanh_AdamW_MSELoss_0_False_4_1_1')"
   ]
  },
  {
   "cell_type": "code",
   "execution_count": 13,
   "metadata": {},
   "outputs": [],
   "source": [
    "decoder = autoencoder.decoder"
   ]
  },
  {
   "cell_type": "code",
   "execution_count": 14,
   "metadata": {},
   "outputs": [],
   "source": [
    "mat = decoder(sampled_seq.detach().cpu())"
   ]
  },
  {
   "cell_type": "code",
   "execution_count": 15,
   "metadata": {},
   "outputs": [
    {
     "data": {
      "text/plain": [
       "torch.Size([4, 1965, 22])"
      ]
     },
     "execution_count": 15,
     "metadata": {},
     "output_type": "execute_result"
    }
   ],
   "source": [
    "mat.shape"
   ]
  },
  {
   "cell_type": "code",
   "execution_count": 16,
   "metadata": {},
   "outputs": [],
   "source": [
    "from utils import reconstruct_sequence\n",
    "rand_mat = joblib.load('data/AA_random_matrices_orth.joblib')"
   ]
  },
  {
   "cell_type": "code",
   "execution_count": 17,
   "metadata": {},
   "outputs": [
    {
     "data": {
      "text/plain": [
       "['TAISAAAGDDAADKAAAAAFETAAACAAAKAACSKRDCGCAFAAIDIICCAAAECMGGCSEGEGIFICEGIVIGAMCGGAGEIEEAESECACCMECESGMIK__CECQH___C_______A_____AGA___QA_FQQK_M_F_QAM_KK_F_AFEFDKKKNAK_KKSEAAPFFDFAEKE_CEAFASDAADADAPADGCYKDADAF_FEFAGDDAWPPAAYREA_W_YNAWRIFFN_QDWHANASNFQDFWRWNKWNFANWAMKN_WNFAFNWDAAWHTMHITHA_H_Y_NTN_WHAVAH_VAHAQHKWHAHHHHHAHAHHHHTH_HMHHKFHHHANMGTDAAMAHMHHMMMMHMDMALTLHMTDMGSMNAGMMSMAAGMHGQXASMLMGMMMMGLGGGHTQGLGMMMIXCMMTMHLGEKCFDMGQQATGDMCQMGLAGTMMEGQLMGITETETFGTHGGXGTAXATTEDKTICLCGMMEEMIIEMTFXEXMXGELIQIIEILFFSGGREHXIMQITTGAIEAEHILCXGEIMEGISFFIQIEDGGEQIMIKMKMEAREEMILEATKGXIDATQKFEMKFEIIAKCFTYISMTHSITIAMESTREKEMIKIIISGAIXYEXPEIGIENHEYYKSPYAFIRITFXKTTIDMNDHYTIYDMHKXDFIFPYAKKEMMAAXDNWFMIFLEMWKRRAEDIPIAYTDPXPCIIMQWEMPDMCCHEIAIEKKVKEIXTETHWSAYEHDEVHDNGEEHIIIEXENHHKEEKFHIHXYXEPSIKIDIPHDFEVHDAKIFXI_HPEIYEIHEDP_IDDATPQYIQHMDX_HDCEEIGXEMTMQHAAPREEDVWKETMACIQM_DPMEKQKXMAVKVMYSVDQAEEVHQIMCXHXYXYAHVEGXAAD_IMYMDEYXAYVXPXEVKTAYMKMEYYEEVKAMHE__HP_PQEH_V_EEDYS_MLHHSYGNPAXAKHTXFVSYYPDTXC_MEEY_EEXMAXIV_APDYPMEEKAE_NLHDHMNEDMNDAEYDHMDFX_YKHKEHTMAGEDAEDGHDCMETAI_LXHMMQADNMXEV_KEP_HVMAEM_VA_XHDEAEVW_GVPE_PKHAQAMQEYYHHYYHDAPEXVEFSVMEKQKXWMXXIYYEQ_IEEQFTKEEQKP_IV_EPMVEY__HAMEANDPXY_GEEEYEVENYFMMHAYDMEXEYYEDFEMDCXE_VADNDMCYYDH_AEP_IHPQENXYYDKAHXMH_VEKKAMTMSVEDCP_DWFEPXN_LM__EKDWGXD_PKPASEDSSH_MYX_EE_VQYDMVHXA_VEEDHEPLEMH__DYKEFDCYHADYDMNV__XMHKCQYEHNEEAEKY_QMDTYSHFMEVQIKEDEACDVCPXHAWD_QMXEEHEVWEVI_XAVAK__HPX_DKQX_P_EYYEXDDSYET_MXWATPXEE_VAHHXEG_WDEEXPMAADHYDEEEEYHDPDXMXMKEE_HXAHMTXMDYXMVYMEPT_YXGPDMEESM_KIAVEX_WNMIH_APA_EEESXVGSPQQM_E__VIXYMDK_FTKYMHAK_AD_YYDWFEEVYNEHK_SHTSDEPAXXDMKEA_EXX_GEXEMHXXEDMAHMEXYAXEGNEMIXM_YLEDCYX_EMH_YXEYVEEMAXYYDEDMFMEAPMMPPI_MEKWAAX_SEMVEDKAQIVEFXH_CMXXMEYMWEIKHVPDCD_ATEE_MVKHTEES_X_ETNDAYS_EQPIEFKSYPMMCE_D_YDXEEMWMHVENCEPDPEMV__XEM_WNXMXXMXDYWPA_PIVXE_EXDQDGHKXSED_SXK_Q_DDESPWTEIYEXAK_TWMECAXYA_VAEEYXMDQIEMAVEHQ_EEESVPCQYH_EEMCVTHEEMKMQDKAMHKAHEECCMXPCAMEHCAVD_FN_XDEMSWEEAEMMAAEYIEMETEMEEKHXLD_MMS_YMTIMA_PY_PMVEK_PD_DMI_WVHKYXE_AFDYCE',\n",
       " 'LAISAAEGDAAADKAAAAAFEEEAAAAADEAAEEKEKAACAFTAKDMIDCAAAECEGGGSEGEFIFICEGDVVGAVCGGAGEIEEAESECACCMECESGMEES_CECQH__GC______TA_____AG____QA_FQ_K___F_QND_KK___AFEFDKAKNAK_KKSEAAPKFDYEEKE_CEAFASDAADADAPADGAYKDADAF_YEFAGDFAWPPAAYRPA_YWYNPWRIFWN_QNWHANASNF_DFWRWNKANFANWAMKN_DNAAFSWDKAWHTAHITHA_H_Y_NTN_WHAVAH_VAHAQH_W_AHHHHHAQAHHHH_H_HMHHKFHHHAN_GTDAAMAHMHHMM_M_MDQ_LTL_MTDMSSM_AG_MSAAAGMHGQXASMLMGHMMMGMMGGHTHGMGMMMIXCMMTMHLGSKVFDMGAQATGDSCYMGLAKTMGEGQLMGITFSETFGTHGGXGTIXATTEDKTICLCTMMEEMIIEMFFSEMMXGELIQIIEIRFFSGGREDXIMCIRTGAIIAEGIMCMGEIMEGISFFIQITDGGEQIMIIMKMEIREEMIFEGTGGXIDATQIPEMKFEIIAKCFTYISMTHSIEIAMESTDE_EMYKIWISGAIXYMXFECGIENHEXYKSPYEFXRIDFXKTYIGMNDHYGIEDMHKXTEIFPYAKKEMMAAXDNWFMIFLNMMTRRAEDIPIHYYNPXPDIIMQYEMPYM_CHEIAIE_YVKEIEXETHP_AYYXDEVDDNGEEHIIEEXXYHHCEEKGHIHY_XEP__VYY_PHDFEVHDAKIFXE_HPEIYEIHEDM_IDDADI_YIQHMGX_CDCEEIGYXM_MQHAAQREEDEWKETMACX___DPMETQKXMAVKVMYSVDQA_SKH_IMCX_MYXYAHVEGXA_D__M_MGYYXAYVMPXEVKTAYMYMEY_EEV_AM_E__HP_EQE__V_EE_YS_M___S_HNYAXCK_TMFVS__PD_X___EEY__EXMAYI__APDYPMEEKNE_N_HDHM_EDMNDAE_DHMD_X_YFHKE__MAGEDAEMYY_CMVT_I_YXHMMQ_DAMSEV__VP_HVM_YM_V___HD_CEVW_GVPS____AQAM_XY__HYYHDMPEXV_FSMME_Q____XXIY____I__QY_K_XQKP_I__E_M_EY__HAM_AYYPXY_GEHEYE__NYFM____D_EX__YEX_E__MXE_VM_N_M_Y_____EP_KHPQ_NX___NHX_MH_Y_KK_W_M_VED___DWFEPXN__M__EYE__X__PD_ASEXSSH___X_EE_HSYDM__XA_VEE_H_XLG_____Y_E_D_YHEDYDMN____MHKC_YE_N_EXE_Y__M__Y____EV_VKEDEMCDV_P_H_WD_QMXPEYEAE__I_XAYA___HPX_DK___P_EY__XDDSYET___WATPX_E_VAHHXEG_Y_EM_P_AAD_YDEE__YHDPDX__M_Y___X_AM__MD_YMVY_E_T__XG_XMEED__KYA_EX__N_I__APA_EEESXVV__QQY_E__VIXYMD___YH_X_SK_IE_YYM_V_P___E____H__DVQAXX_MIAA_E_X_G_X__H__EDMAHMEX_NXPGNEME_M_YXED_YX_EM__YXEYYE_MXX_Y_ED_FMEAP_MPPI__E__AAX_S_M_EDKAQI___XX_CMX_MEYMW_I_HVPDC__ATEE__V_MTEES_Y_E_NDAY__EQ__EF_SY__M_E_P_Y_XE_M__H_ENCV_DPE_V__XEM_MNX__XM_HY__A_PIVXE____Q_GH_XSE______Q_D_E_P_T_IYEXAH_TW__XVXYA_VAEE_XM_QP_MAV_HQ_EEESVP__YH_E_MNEYH_EMKMQDKAMH_QY_E_CMXPC_MIHCMVX____X__MSWI_PEMM___YIE_EYEM_XKHXLD_M_S_Y__I_A__Y_SMVVK_PD__M__WV_KYXE_AF_YYE',\n",
       " 'AAISAAIGDAAADKAAAAAFCEEAAIAADEAVENKEKCACAFTAIDMICCAAAECMGGGGEGEGIFICEGIDVGCMCGGAGEIEEAESECACCMECESGMIKS_CECQH__GC_G_M__TA_____AGAK__QAQGQQK_M_KYQNDFKK_FQAFYFDKAKYAKMKKSEAAPMFDFEEKEACEAFASDAADADAPADGAYKDADAF_YEFAGDDAWDPAAYRPA_WWYNAWRIFFN_QWWHANASNFQNFWRWAWWNFANWAMEW_ANAAFKWDKAWFTAH_THA_H_Y_NTN_WHAVAH_VAHAQHHW_AHHHHHNHAHHHH_H_HMHHKFHHHAA_GTDAAMAHMHHEMMMHMHMALTL_MTDMSSQ_LGMMSMAAGMHFQXASMLMVHQXMGLMGGFTQGMGMMMIXCMMTMHLGEKCFDMGAQETGDSCQMDEAKTMGEGQLMGITESETFGTHGGXGTIXATCEDKTQCLCTMMEEMIFEMTFXEMMXGELIQIIEMRFFSGGREHXIMCFITEAIEAEGIMCXGEIMEGIEFFIQITDGGEQIMIIMXMEIREEMIFECTEGXIDATQKFEMKFEIDAKCFTYIMMTHSIEGAMESFDEKEMIKIIISGAIXYXIFECGIENHEYYKKPYAFXRIEFXKTYEGDNFHYTFYDMHKXEEIFPYMKKEFEAAXDNWFMIFLEMWKRRAEDIPIPYYDPXPCIEMHWEMPIMMCHEIAIEKKVKEIMXETHWSAYEFDEVHDNEEEHXIIEXXYHHAEEKKFIHYYXEPSEKIDIPFDFEVHDAKIFXI_HPPIYEIHEDQ_IDDADPMYIQECDA_CDCEEIGXXMTMFHAAPREEDCWKETMACXQF_DDMEKDKXMAVKVMYEVDQAEEVKQIMCXMMXXYAEVEGXAAD_IMYMDDYXAYVMPXEVKTAYFYMEYEEEVKXMWE_XHP_PQED_V_EEDYS_MLE_YYHNYAXAKHTXFVSYYPD_XC_MEEY_EEXMAYIV_APDYPMEEKAE_KLHDHMNEDMNDAEEDHMDFX_YKHKEHXMAGEDAEMYEHCMETCI_YXHMMQ_DNMXEV_KEP_HVWAEM_VA_XEDEAEIW_EVPE_DEHAEKMQXYYEHYVHDAPEXVEFSVMEKKKXWMXXIYYHQ_IEPQY_KEXQKP_I__EPMVEY__EAMEAEYPXY_GEEEYEVENYFMMHAYDMEXEYYEXREMEMXE_VADQAMEYYD__AEPFKEPQENXY__NAXXMH_EEKKAWXMSDEDCD_DWFEPXN_LM__EYEWGXDPPDPAGEXSSQ_MYX_EE_HQYDYVEXA_AEEDKEPLEMH__DYKEFDCYHEDYDMND__XMHKCQYEKDYEAE_Y_XMDXY_HFMEVQIKEYEMCVVCPXHAWD_QMXEEDEAWEVI_XAYAK__HPX_DK___P_EYIEXDDSYET_MPWATPTEE_VAHHXEGAYDEEXPMAADVYDEEEEXNDPDX__MKEE_HX_AETXMDYXMVYMEPT_YXDXDMEEGM_KYAVEY_WNCII_APAREEESXVGSPQQY_E__VIXYMDK_FYKYX_SK_IE_YYDWFEPVYNEHPESHTQDEQAXXDMKAA_EXX_GEXEMHXXEDMAEMEXXAXPGNEMDXM_YXEDCYX_EME_DXEYYEEMXKYYDED_FMEAPMMPPI_MEKWMAX_SEMEEDKAQIVEFXX_CMXEAEYMWEI_HVPDC__ATEEDMVKMTEES_YXEYNDAYN_EQPPEFESAVMM_EYP_YTXEEMWMHVENCEEDPEMV__XEM_WNXCXXEDHYWPA_PIVXE_EXDQDEPKXXED_SXK_Q_DDESPKDEIYEXAK_TWMCCAXYA_VAEE_XMDQPYMAVEIQ_EEESVPCQPH_EEMCETH_SMKMQDKAMHKQHEE_CMXPCAMIHCMVX_SNKXFESSWEEPEMMAAEYVEMEYEMEXKHXLD_MMM_YMTIDAAPY_PMVVKYPQ_DMI_WVQKYXE_AFDYCE',\n",
       " 'TAISAAIGDDAAAKAAAAAGCAEAAIAAAKAVCSCEKAGCAFTAIDMIICAAAECMGGCSGGEGIFICEGIVVGAMCGGAGEIEEAESECECCMGCESGMIES_CECQH__GC_G_M__TAY____AGAKQ_QAQMQQK_M_FAQNMFKK_FQEFEFDKAKNALMKKSEIAPIYDFEEKYACEAFASDAADADAPAYGAYKDADAF_YEIAGDDAWPPDAYRPA_YWYNAWRIFFN_QWWHANASNFQDFWRWNRANFANWAMEN_DNAAFNWDAAWF_AH_THA_H_Y_NTN_WHAVA__VAHAQH_WHAHHHHHNQAHHHH_H_HMHHAFHHHAN_GTDAQMAHMKHMMMM_MHQALTL_MTDMSSQ_LGLMSAAAGVHGQXASLLMLQQMMGLGGGITQGLGMMQIXCMMTMHLGSKCEDMGAQAMGDSCTMGLAKTMGEGQLMGITESETFGTHGGXGTIXATCEDKHQCLCTMMEEQIIQMMFSEXMXGELIQIIEIRFFSGGREHXPMQIITEAIEAEHILCQGEIEEGIEFFIQITLGGEQIMIDMTMEIREEMILECTEGXIDATQKPPMKFEIIAKRFYYISMTHSIEEAMEPIDEKEMYKIIISGAIXYXXPPCGNENHEXYKSPYEFHRIQMXKTIIDMNDHYGIEDMHKXEEIHPYMKQEMMAAXDNWFMIFLEMMKRRAEDIPIPYYDPXPDHIMQWEMEIM_EHEIAIE_YVKEIXTPTHW_EYEXDEEHDNEEEHIIEEXXNHHDEEKFHMHY_XEP_IKIH_PHDFEVHDAKIFXE_HPE_YEI_EDQ_IDDADP_YIQHXDX_CDCEEIXYXMTMQHAAPREEDCWKETMACX___DXMETQ_XMQVKVMYSVDPA_EKHQIMCX_MXXYAEVEGXA_D_MM_MDEYXAYVMPXEMKTAYM_MEY_EEVKXM_E__HP_EQE__V_EEDYS_M___M_HNPAXC__TXFVS__DD_X___EEL__EXMAXI__APDEPMEEKAQ_N_HD_M_E_MNDPE_EHMD_X_YXHKE__MAGEDAEMYE_CMET____MHMMQ_DXMXEV__EP_HVM__X_H___HD_MEVW__VPE____AQ_M_EM__HYYHDM_EXX_FSVME_X_XW_XXXY____IE_QY_K_XQ_P_I__E_M__Y__HAM_HYHPXY_KEEEYE__NHFM____D_EXE_YEX_E__XXE_V__Q_M_Y_____EP_K_PQ_NX___NHX_MH_VEKK_W_M_PEDC__DWFEPXN__M__EXDWGX__PD_A_EXSSH___X_EE_HQYDM__XQ_VEE_HEXL__H___Y_EHD_YHEDYDMNV___MMEC_XE_N_EXE_Y__M__Y___MEVQIKEDEMCDV_P_H_WD_QMXPEYEAWE_I_XA_____HPX_DK___P_EY__XDDSYET___WATPX_E__EHXXEG_Y__E_P_ACD_YX_E__XNDPDX__M_E___X_HM__MD_XM_F_E____XG_DMEEG__KYA_EX__N_I__AEA_EEESXVG__QQM_E__VIXYMD___TK_X__K_IL_Y_DWFEE___E____HA_DEQAXXDMK_A_E_X_G_X__H__EDMNH_NX_NXEGN_MD_M_YXED_YX_EME_DXEE_E_MAX_YDED_FMEDP_MPPM__EK_AAX_S_M_ED_AQI_E_XX_XXX_MEYMW_I_HVPDC__ATEE__V_MTEES_X_E_NDNY__EQP_E__SA__M_E_P_Y_XE_M__H_ENCE_DPE_M__XEM_WNX__XM_DM__A_PI_XP__X_X_EH_XXE______Q_D_E_PWT_IYEXAH_TWM_X_XYA_VAEE_XM_QP_MAV_HQ_EEESVPC_YH_E_MCVTH_E_DMQDAAMHX_HEE_KMXPC_MEHCMVX__N_X_EMSWHEPEMM___YIE_EXEMEXKHHQX_M_M_Y__IMM__Y_PMVEK__D__M__WE_KYXE_M__YCE']"
      ]
     },
     "execution_count": 17,
     "metadata": {},
     "output_type": "execute_result"
    }
   ],
   "source": [
    "[''.join(x) for x in reconstruct_sequence(rand_mat, mat.detach().cpu())]"
   ]
  },
  {
   "cell_type": "code",
   "execution_count": 18,
   "metadata": {},
   "outputs": [
    {
     "name": "stdout",
     "output_type": "stream",
     "text": [
      "No modification:  7.2\n",
      "No modification:  5.5\n",
      "No modification:  4.4\n",
      "No modification:  7.2\n"
     ]
    }
   ],
   "source": [
    "import ProtParam \n",
    "\n",
    "for seq in reconstruct_sequence(rand_mat, mat.detach().cpu()):\n",
    "    print(\"No modification: \",ProtParam.get_sequence_half_life(seq))\n",
    "    # print(\"With modification: \",ProtParam.get_sequence_half_life([string.replace(\"_\", \"\") for string in seq]))"
   ]
  }
 ],
 "metadata": {
  "kernelspec": {
   "display_name": "protein-protein",
   "language": "python",
   "name": "python3"
  },
  "language_info": {
   "codemirror_mode": {
    "name": "ipython",
    "version": 3
   },
   "file_extension": ".py",
   "mimetype": "text/x-python",
   "name": "python",
   "nbconvert_exporter": "python",
   "pygments_lexer": "ipython3",
   "version": "3.9.0"
  },
  "orig_nbformat": 4
 },
 "nbformat": 4,
 "nbformat_minor": 2
}
